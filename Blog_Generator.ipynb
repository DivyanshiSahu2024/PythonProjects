{
  "nbformat": 4,
  "nbformat_minor": 0,
  "metadata": {
    "colab": {
      "provenance": [],
      "authorship_tag": "ABX9TyO/yw7VLIG9U0zCii8gUQYu",
      "include_colab_link": true
    },
    "kernelspec": {
      "name": "python3",
      "display_name": "Python 3"
    },
    "language_info": {
      "name": "python"
    }
  },
  "cells": [
    {
      "cell_type": "markdown",
      "metadata": {
        "id": "view-in-github",
        "colab_type": "text"
      },
      "source": [
        "<a href=\"https://colab.research.google.com/github/DivyanshiSahu2024/PythonProjects/blob/main/Blog_Generator.ipynb\" target=\"_parent\"><img src=\"https://colab.research.google.com/assets/colab-badge.svg\" alt=\"Open In Colab\"/></a>"
      ]
    },
    {
      "cell_type": "markdown",
      "source": [
        "#AI-Powered Blog Post Generator"
      ],
      "metadata": {
        "id": "CPAIbvhaeDKA"
      }
    },
    {
      "cell_type": "code",
      "execution_count": 2,
      "metadata": {
        "colab": {
          "base_uri": "https://localhost:8080/"
        },
        "id": "snsnrk4Z3oov",
        "outputId": "695cf001-0b27-495c-bb4f-db6912537052"
      },
      "outputs": [
        {
          "output_type": "stream",
          "name": "stdout",
          "text": [
            "Requirement already satisfied: openai in /usr/local/lib/python3.12/dist-packages (1.107.0)\n",
            "Requirement already satisfied: anyio<5,>=3.5.0 in /usr/local/lib/python3.12/dist-packages (from openai) (4.10.0)\n",
            "Requirement already satisfied: distro<2,>=1.7.0 in /usr/local/lib/python3.12/dist-packages (from openai) (1.9.0)\n",
            "Requirement already satisfied: httpx<1,>=0.23.0 in /usr/local/lib/python3.12/dist-packages (from openai) (0.28.1)\n",
            "Requirement already satisfied: jiter<1,>=0.4.0 in /usr/local/lib/python3.12/dist-packages (from openai) (0.10.0)\n",
            "Requirement already satisfied: pydantic<3,>=1.9.0 in /usr/local/lib/python3.12/dist-packages (from openai) (2.11.7)\n",
            "Requirement already satisfied: sniffio in /usr/local/lib/python3.12/dist-packages (from openai) (1.3.1)\n",
            "Requirement already satisfied: tqdm>4 in /usr/local/lib/python3.12/dist-packages (from openai) (4.67.1)\n",
            "Requirement already satisfied: typing-extensions<5,>=4.11 in /usr/local/lib/python3.12/dist-packages (from openai) (4.15.0)\n",
            "Requirement already satisfied: idna>=2.8 in /usr/local/lib/python3.12/dist-packages (from anyio<5,>=3.5.0->openai) (3.10)\n",
            "Requirement already satisfied: certifi in /usr/local/lib/python3.12/dist-packages (from httpx<1,>=0.23.0->openai) (2025.8.3)\n",
            "Requirement already satisfied: httpcore==1.* in /usr/local/lib/python3.12/dist-packages (from httpx<1,>=0.23.0->openai) (1.0.9)\n",
            "Requirement already satisfied: h11>=0.16 in /usr/local/lib/python3.12/dist-packages (from httpcore==1.*->httpx<1,>=0.23.0->openai) (0.16.0)\n",
            "Requirement already satisfied: annotated-types>=0.6.0 in /usr/local/lib/python3.12/dist-packages (from pydantic<3,>=1.9.0->openai) (0.7.0)\n",
            "Requirement already satisfied: pydantic-core==2.33.2 in /usr/local/lib/python3.12/dist-packages (from pydantic<3,>=1.9.0->openai) (2.33.2)\n",
            "Requirement already satisfied: typing-inspection>=0.4.0 in /usr/local/lib/python3.12/dist-packages (from pydantic<3,>=1.9.0->openai) (0.4.1)\n"
          ]
        }
      ],
      "source": [
        "!pip install openai"
      ]
    },
    {
      "cell_type": "code",
      "source": [
        "import os\n",
        "import openai\n",
        "from openai import OpenAI"
      ],
      "metadata": {
        "id": "Q4tFrMof4HdH"
      },
      "execution_count": 3,
      "outputs": []
    },
    {
      "cell_type": "markdown",
      "source": [
        "**3.SENDING A FIRST REQUEST TO OPENAI API**\n",
        "\n",
        "3.1 Setting up API Key"
      ],
      "metadata": {
        "id": "_gmg3nSC4oi0"
      }
    },
    {
      "cell_type": "code",
      "source": [
        "from google.colab import userdata\n",
        "api_key=userdata.get('OPENAI_API_KEY')\n",
        "os.environ[\"OPENAI_API_KEY\"]=api_key\n",
        "client=OpenAI()"
      ],
      "metadata": {
        "id": "fVoMefLu40HB"
      },
      "execution_count": 8,
      "outputs": []
    },
    {
      "cell_type": "markdown",
      "source": [
        "3.2 OpenAI available models"
      ],
      "metadata": {
        "id": "HBwY-Zz_5m15"
      }
    },
    {
      "cell_type": "code",
      "source": [
        "print(client.models.list())"
      ],
      "metadata": {
        "colab": {
          "base_uri": "https://localhost:8080/"
        },
        "id": "yS6RZ8hI5uA8",
        "outputId": "dc09b7cd-3f18-4384-a048-1b1c55c515d6"
      },
      "execution_count": 9,
      "outputs": [
        {
          "output_type": "stream",
          "name": "stdout",
          "text": [
            "SyncPage[Model](data=[Model(id='gpt-3.5-turbo', created=1677610602, object='model', owned_by='openai'), Model(id='gpt-audio', created=1756339249, object='model', owned_by='system'), Model(id='gpt-5-mini', created=1754425928, object='model', owned_by='system'), Model(id='gpt-5-nano-2025-08-07', created=1754426303, object='model', owned_by='system'), Model(id='gpt-5-nano', created=1754426384, object='model', owned_by='system'), Model(id='gpt-audio-2025-08-28', created=1756256146, object='model', owned_by='system'), Model(id='davinci-002', created=1692634301, object='model', owned_by='system'), Model(id='babbage-002', created=1692634615, object='model', owned_by='system'), Model(id='gpt-3.5-turbo-instruct', created=1692901427, object='model', owned_by='system'), Model(id='gpt-3.5-turbo-instruct-0914', created=1694122472, object='model', owned_by='system'), Model(id='dall-e-3', created=1698785189, object='model', owned_by='system'), Model(id='dall-e-2', created=1698798177, object='model', owned_by='system'), Model(id='gpt-3.5-turbo-1106', created=1698959748, object='model', owned_by='system'), Model(id='tts-1-hd', created=1699046015, object='model', owned_by='system'), Model(id='tts-1-1106', created=1699053241, object='model', owned_by='system'), Model(id='tts-1-hd-1106', created=1699053533, object='model', owned_by='system'), Model(id='text-embedding-3-small', created=1705948997, object='model', owned_by='system'), Model(id='text-embedding-3-large', created=1705953180, object='model', owned_by='system'), Model(id='gpt-3.5-turbo-0125', created=1706048358, object='model', owned_by='system'), Model(id='gpt-4o', created=1715367049, object='model', owned_by='system'), Model(id='gpt-4o-2024-05-13', created=1715368132, object='model', owned_by='system'), Model(id='gpt-4o-mini-2024-07-18', created=1721172717, object='model', owned_by='system'), Model(id='gpt-4o-mini', created=1721172741, object='model', owned_by='system'), Model(id='gpt-4o-2024-08-06', created=1722814719, object='model', owned_by='system'), Model(id='o1-mini-2024-09-12', created=1725648979, object='model', owned_by='system'), Model(id='o1-mini', created=1725649008, object='model', owned_by='system'), Model(id='gpt-4o-audio-preview-2024-10-01', created=1727389042, object='model', owned_by='system'), Model(id='gpt-4o-audio-preview', created=1727460443, object='model', owned_by='system'), Model(id='omni-moderation-latest', created=1731689265, object='model', owned_by='system'), Model(id='omni-moderation-2024-09-26', created=1732734466, object='model', owned_by='system'), Model(id='gpt-4o-audio-preview-2024-12-17', created=1734034239, object='model', owned_by='system'), Model(id='gpt-4o-mini-audio-preview-2024-12-17', created=1734115920, object='model', owned_by='system'), Model(id='o1-2024-12-17', created=1734326976, object='model', owned_by='system'), Model(id='o1', created=1734375816, object='model', owned_by='system'), Model(id='gpt-4o-mini-audio-preview', created=1734387424, object='model', owned_by='system'), Model(id='o3-mini', created=1737146383, object='model', owned_by='system'), Model(id='o3-mini-2025-01-31', created=1738010200, object='model', owned_by='system'), Model(id='gpt-4o-2024-11-20', created=1739331543, object='model', owned_by='system'), Model(id='gpt-4o-search-preview-2025-03-11', created=1741388170, object='model', owned_by='system'), Model(id='gpt-4o-search-preview', created=1741388720, object='model', owned_by='system'), Model(id='gpt-4o-mini-search-preview-2025-03-11', created=1741390858, object='model', owned_by='system'), Model(id='gpt-4o-mini-search-preview', created=1741391161, object='model', owned_by='system'), Model(id='gpt-4o-transcribe', created=1742068463, object='model', owned_by='system'), Model(id='gpt-4o-mini-transcribe', created=1742068596, object='model', owned_by='system'), Model(id='gpt-4o-mini-tts', created=1742403959, object='model', owned_by='system'), Model(id='o3-2025-04-16', created=1744133301, object='model', owned_by='system'), Model(id='o4-mini-2025-04-16', created=1744133506, object='model', owned_by='system'), Model(id='o3', created=1744225308, object='model', owned_by='system'), Model(id='o4-mini', created=1744225351, object='model', owned_by='system'), Model(id='gpt-4.1-2025-04-14', created=1744315746, object='model', owned_by='system'), Model(id='gpt-4.1', created=1744316542, object='model', owned_by='system'), Model(id='gpt-4.1-mini-2025-04-14', created=1744317547, object='model', owned_by='system'), Model(id='gpt-4.1-mini', created=1744318173, object='model', owned_by='system'), Model(id='gpt-4.1-nano-2025-04-14', created=1744321025, object='model', owned_by='system'), Model(id='gpt-4.1-nano', created=1744321707, object='model', owned_by='system'), Model(id='gpt-image-1', created=1745517030, object='model', owned_by='system'), Model(id='gpt-4o-audio-preview-2025-06-03', created=1748908498, object='model', owned_by='system'), Model(id='gpt-5-chat-latest', created=1754073306, object='model', owned_by='system'), Model(id='gpt-5-2025-08-07', created=1754075360, object='model', owned_by='system'), Model(id='gpt-5', created=1754425777, object='model', owned_by='system'), Model(id='gpt-5-mini-2025-08-07', created=1754425867, object='model', owned_by='system'), Model(id='whisper-1', created=1677532384, object='model', owned_by='openai-internal'), Model(id='tts-1', created=1681940951, object='model', owned_by='openai-internal'), Model(id='gpt-3.5-turbo-16k', created=1683758102, object='model', owned_by='openai-internal'), Model(id='text-embedding-ada-002', created=1671217299, object='model', owned_by='openai-internal')], object='list')\n"
          ]
        }
      ]
    },
    {
      "cell_type": "markdown",
      "source": [
        "# 2. Get the blog topic from the user\n",
        "\n"
      ],
      "metadata": {
        "id": "0fzJ8aR6dUm3"
      }
    },
    {
      "cell_type": "code",
      "source": [
        "\n",
        "blog_topic = input(\"📝 Please enter the topic for your blog post: \")"
      ],
      "metadata": {
        "colab": {
          "base_uri": "https://localhost:8080/"
        },
        "id": "T-8JbCo85-0S",
        "outputId": "3404027a-4965-48ed-83eb-136472843ed6"
      },
      "execution_count": 11,
      "outputs": [
        {
          "name": "stdout",
          "output_type": "stream",
          "text": [
            "📝 Please enter the topic for your blog post: Generative AI\n"
          ]
        }
      ]
    },
    {
      "cell_type": "markdown",
      "source": [
        "# 3. Create a detailed prompt using the user's topic\n"
      ],
      "metadata": {
        "id": "iOrF1Pd4dcoC"
      }
    },
    {
      "cell_type": "code",
      "source": [
        "prompt = f\"\"\"\n",
        "Write a compelling and informative blog post about \"{blog_topic}\".\n",
        "\n",
        "The blog post should have the following structure:\n",
        "1.  **Catchy Title:** An engaging title for the post.\n",
        "2.  **Introduction:** Briefly introduce the topic and why it's relevant.\n",
        "3.  **Main Body:** At least three distinct points or benefits, each explained in its own paragraph. Use clear headings for each point (e.g., using Markdown like '## Heading').\n",
        "4.  **Conclusion:** Summarize the main points and offer a concluding thought or call to action.\n",
        "\n",
        "The tone should be enthusiastic, encouraging, and easy to understand.\n",
        "\"\"\""
      ],
      "metadata": {
        "id": "LUmaRMyp9jjw"
      },
      "execution_count": 12,
      "outputs": []
    },
    {
      "cell_type": "markdown",
      "source": [
        "# 4. Generate the blog post by calling the API"
      ],
      "metadata": {
        "id": "6HWcsc5ddlFN"
      }
    },
    {
      "cell_type": "code",
      "source": [
        "print(f\"🤖 Generating a blog post about '{blog_topic}'...\")\n",
        "\n",
        "try:\n",
        "    response = client.chat.completions.create(\n",
        "        model=\"gpt-4o-mini\",\n",
        "        messages=[\n",
        "            {\"role\": \"system\", \"content\": \"You are a helpful assistant that writes excellent blog posts.\"},\n",
        "            {\"role\": \"user\", \"content\": prompt}\n",
        "        ]\n",
        "    )\n",
        "\n",
        "    # 5. Print the final result\n",
        "    blog_post = response.choices[0].message.content\n",
        "    print(\"\\n--- ✍️ BLOG POST GENERATED ---\")\n",
        "    print(blog_post)\n",
        "\n",
        "except Exception as e:\n",
        "    print(f\"🚨 An error occurred during API call: {e}\")\n"
      ],
      "metadata": {
        "colab": {
          "base_uri": "https://localhost:8080/"
        },
        "id": "jeJ8nPyedo0m",
        "outputId": "8f29c48b-17f0-4f9b-d250-773ee551ad8b"
      },
      "execution_count": 13,
      "outputs": [
        {
          "output_type": "stream",
          "name": "stdout",
          "text": [
            "🤖 Generating a blog post about 'Generative AI'...\n",
            "\n",
            "--- ✍️ BLOG POST GENERATED ---\n",
            "# Unlocking Creativity: The Transformative Power of Generative AI\n",
            "\n",
            "## Introduction\n",
            "\n",
            "In a world where technology continues to advance at breakneck speed, generative AI has emerged as a groundbreaking force that is reshaping industries and enhancing human creativity. From generating art and music to writing and designing, this innovative technology is not just a tool but a co-creative partner. As we dive into the realm of generative AI, you’ll discover why it’s relevant today and how it can empower both professionals and amateurs alike in various fields.\n",
            "\n",
            "## Harnessing Creativity in Art and Design\n",
            "\n",
            "One of the most exciting aspects of generative AI is its ability to unlock creative potential in art and design. Artists and designers are increasingly leveraging AI algorithms that can generate unique images, graphics, and even entire art pieces. Imagine sitting at your digital workspace and, with just a few inputs, creating a stunning piece of visual art that would have taken hours to develop by hand.\n",
            "\n",
            "Generative AI tools, like DALL-E and Midjourney, utilize vast datasets to learn styles, patterns, and techniques. This allows creators to experiment with styles that they may not have considered, broadening their creative horizons. The beauty of generative AI lies in its capacity to inspire; merging human creativity with machine learning can lead to extraordinary combinations and innovative works that push the boundaries of contemporary art.\n",
            "\n",
            "## Enhancing Content Creation and Writing\n",
            "\n",
            "Writing is another domain where generative AI is making significant strides. With tools like GPT-3 and ChatGPT, content creators are finding new ways to brainstorm, draft, and refine their written material. Whether you’re crafting blog posts, marketing copy, or even a novel, generative AI can streamline the writing process, helping to overcome writer’s block and offer suggestions that enhance clarity and engagement.\n",
            "\n",
            "Beyond content generation, AI can also analyze existing texts to suggest improvements, optimize for SEO, or tailor content to specific audiences. This capability not only speeds up the writing process but also elevates the quality of the output. For marketers, entrepreneurs, and creatives, generative AI serves as a powerful ally, allowing them to focus on larger visions while the AI takes care of the nuances.\n",
            "\n",
            "## Revolutionizing Music and Audio Creation\n",
            "\n",
            "It’s not just visual arts and written content that benefit from generative AI; the music industry is also witnessing a transformation. Composers and musicians can now augment their creative processes with AI-generated music, learning from existing works to produce new compositions. Tools like OpenAI’s MuseNet and AIVA enable artists to explore diverse genres or create entirely original scores with just a few simple inputs.\n",
            "\n",
            "Moreover, generative AI also excels in sound design, offering musicians a treasure trove of possibilities—from unique soundscapes for films to background music for apps and games. This ability to innovate in sound further diminishes the barriers to entry for aspiring musicians, enabling them to create professional-quality music without extensive training or resources. As a result, the musical landscape is becoming more diverse and accessible, as new talents emerge, fully equipped with AI’s capabilities.\n",
            "\n",
            "## Conclusion\n",
            "\n",
            "Generative AI is more than just a technological advancement; it’s a catalyst for creativity and innovation across various domains. By harnessing AI for art and design, enhancing writing and content creation, and revolutionizing music and audio, we’re witnessing a profound transformation in how we create and interact with creative content. \n",
            "\n",
            "As you embark on your creative endeavors, consider incorporating generative AI tools into your workflow. The potential to unlock new ideas and boost your productivity is unparalleled. Embrace the future—why not experiment with generative AI today and see where it takes your creativity?\n"
          ]
        }
      ]
    }
  ]
}